{
 "cells": [
  {
   "cell_type": "code",
   "execution_count": 72,
   "id": "72c3d139-38e3-45a1-ae4f-672fe68bd0d9",
   "metadata": {},
   "outputs": [],
   "source": [
    "import numpy as np\n",
    "import pandas as pd\n",
    "import matplotlib.pyplot as plt\n",
    "import statsmodels.api as sm\n",
    "import seaborn as sns  # Import seaborn for ggplot-style visuals\n"
   ]
  },
  {
   "cell_type": "code",
   "execution_count": 53,
   "id": "926ebd0c-c09d-46eb-8bb1-fc1056062f8d",
   "metadata": {},
   "outputs": [
    {
     "data": {
      "text/html": [
       "<div>\n",
       "<style scoped>\n",
       "    .dataframe tbody tr th:only-of-type {\n",
       "        vertical-align: middle;\n",
       "    }\n",
       "\n",
       "    .dataframe tbody tr th {\n",
       "        vertical-align: top;\n",
       "    }\n",
       "\n",
       "    .dataframe thead th {\n",
       "        text-align: right;\n",
       "    }\n",
       "</style>\n",
       "<table border=\"1\" class=\"dataframe\">\n",
       "  <thead>\n",
       "    <tr style=\"text-align: right;\">\n",
       "      <th></th>\n",
       "      <th>number_of_solar_panels</th>\n",
       "      <th>manufacturing_cost</th>\n",
       "    </tr>\n",
       "  </thead>\n",
       "  <tbody>\n",
       "    <tr>\n",
       "      <th>0</th>\n",
       "      <td>100</td>\n",
       "      <td>1250.0</td>\n",
       "    </tr>\n",
       "    <tr>\n",
       "      <th>1</th>\n",
       "      <td>200</td>\n",
       "      <td>1108.7</td>\n",
       "    </tr>\n",
       "    <tr>\n",
       "      <th>2</th>\n",
       "      <td>300</td>\n",
       "      <td>1053.5</td>\n",
       "    </tr>\n",
       "    <tr>\n",
       "      <th>3</th>\n",
       "      <td>400</td>\n",
       "      <td>1033.4</td>\n",
       "    </tr>\n",
       "    <tr>\n",
       "      <th>4</th>\n",
       "      <td>500</td>\n",
       "      <td>989.8</td>\n",
       "    </tr>\n",
       "    <tr>\n",
       "      <th>5</th>\n",
       "      <td>600</td>\n",
       "      <td>999.0</td>\n",
       "    </tr>\n",
       "    <tr>\n",
       "      <th>6</th>\n",
       "      <td>700</td>\n",
       "      <td>914.9</td>\n",
       "    </tr>\n",
       "    <tr>\n",
       "      <th>7</th>\n",
       "      <td>800</td>\n",
       "      <td>931.0</td>\n",
       "    </tr>\n",
       "    <tr>\n",
       "      <th>8</th>\n",
       "      <td>900</td>\n",
       "      <td>922.3</td>\n",
       "    </tr>\n",
       "    <tr>\n",
       "      <th>9</th>\n",
       "      <td>1000</td>\n",
       "      <td>861.9</td>\n",
       "    </tr>\n",
       "    <tr>\n",
       "      <th>10</th>\n",
       "      <td>1100</td>\n",
       "      <td>820.9</td>\n",
       "    </tr>\n",
       "    <tr>\n",
       "      <th>11</th>\n",
       "      <td>1200</td>\n",
       "      <td>823.2</td>\n",
       "    </tr>\n",
       "    <tr>\n",
       "      <th>12</th>\n",
       "      <td>1300</td>\n",
       "      <td>876.7</td>\n",
       "    </tr>\n",
       "    <tr>\n",
       "      <th>13</th>\n",
       "      <td>1400</td>\n",
       "      <td>817.2</td>\n",
       "    </tr>\n",
       "    <tr>\n",
       "      <th>14</th>\n",
       "      <td>1500</td>\n",
       "      <td>837.2</td>\n",
       "    </tr>\n",
       "    <tr>\n",
       "      <th>15</th>\n",
       "      <td>1600</td>\n",
       "      <td>815.3</td>\n",
       "    </tr>\n",
       "    <tr>\n",
       "      <th>16</th>\n",
       "      <td>1700</td>\n",
       "      <td>804.6</td>\n",
       "    </tr>\n",
       "    <tr>\n",
       "      <th>17</th>\n",
       "      <td>1800</td>\n",
       "      <td>765.3</td>\n",
       "    </tr>\n",
       "    <tr>\n",
       "      <th>18</th>\n",
       "      <td>1900</td>\n",
       "      <td>820.6</td>\n",
       "    </tr>\n",
       "    <tr>\n",
       "      <th>19</th>\n",
       "      <td>2000</td>\n",
       "      <td>828.1</td>\n",
       "    </tr>\n",
       "    <tr>\n",
       "      <th>20</th>\n",
       "      <td>2100</td>\n",
       "      <td>765.2</td>\n",
       "    </tr>\n",
       "    <tr>\n",
       "      <th>21</th>\n",
       "      <td>2200</td>\n",
       "      <td>784.5</td>\n",
       "    </tr>\n",
       "  </tbody>\n",
       "</table>\n",
       "</div>"
      ],
      "text/plain": [
       "    number_of_solar_panels  manufacturing_cost\n",
       "0                      100              1250.0\n",
       "1                      200              1108.7\n",
       "2                      300              1053.5\n",
       "3                      400              1033.4\n",
       "4                      500               989.8\n",
       "5                      600               999.0\n",
       "6                      700               914.9\n",
       "7                      800               931.0\n",
       "8                      900               922.3\n",
       "9                     1000               861.9\n",
       "10                    1100               820.9\n",
       "11                    1200               823.2\n",
       "12                    1300               876.7\n",
       "13                    1400               817.2\n",
       "14                    1500               837.2\n",
       "15                    1600               815.3\n",
       "16                    1700               804.6\n",
       "17                    1800               765.3\n",
       "18                    1900               820.6\n",
       "19                    2000               828.1\n",
       "20                    2100               765.2\n",
       "21                    2200               784.5"
      ]
     },
     "execution_count": 53,
     "metadata": {},
     "output_type": "execute_result"
    }
   ],
   "source": [
    "# Load the dataset from GitHub\n",
    "url = \"https://raw.githubusercontent.com/pshenic4/Advanced-Data-Driven-Decision-Making/becf907b2c87751501daf026ad531a7767f38081/Case_Stud_%20I.csv\"\n",
    "df = pd.read_csv(url)\n",
    "df"
   ]
  },
  {
   "cell_type": "markdown",
   "id": "b4250f15-e6de-4165-8a7e-211a5fd85415",
   "metadata": {},
   "source": [
    "# Experience Curve Analysis\n",
    "\n",
    "## Does the *multiplicative learning model* apply to this data set?\n",
    "Yes, because solar panel manufacturing follows learning curve cost reductions.\n",
    "\n",
    "The multiplicative learning model assumes the following relationship:\n",
    "\n",
    "\\[\n",
    "Y = A X^b\n",
    "\\]\n",
    "\n",
    "In our case:\n",
    "- **Y** represents *the average manufacturing cost of the last batch of 100 solar panels* at Heliotronic (in dollars) after having produced a cumulative production of **X** solar panels.\n",
    "- **X** represents the column labeled **total number of solar panels produced** at Heliotronics.\n",
    "- **b** is *the experience parameter*, which should **not** be confused with the learning rate.\n",
    "- **A** is the price or **cost of the first unit**.\n",
    "\n",
    "## Why Transform the Data?\n",
    "To convert the non-linear equation into a linear form that can be analyzed using regression.\n",
    "Obviously, \\( Y = AX^b \\) is **not a linear relationship** of the form:\n",
    "\n",
    "\\[\n",
    "y = a + b_1 x_1\n",
    "\\]\n",
    "\n",
    "that regression analysis can model.  \n",
    "\n"
   ]
  },
  {
   "cell_type": "code",
   "execution_count": 74,
   "id": "9091734b-5ec9-47a4-bee9-6fe45c0f809c",
   "metadata": {},
   "outputs": [
    {
     "data": {
      "image/png": "[encoded data removed]",
      "text/plain": [
       "<Figure size 800x500 with 1 Axes>"
      ]
     },
     "metadata": {},
     "output_type": "display_data"
    }
   ],
   "source": [
    "# Use seaborn's ggplot style\n",
    "sns.set_style(\"darkgrid\")\n",
    "\n",
    "# Step 1: Plot raw data\n",
    "plt.figure(figsize=(8,5))\n",
    "sns.scatterplot(x=df['number_of_solar_panels'], y=df['manufacturing_cost'], color='blue', label='Actual Data')\n",
    "plt.xlabel('Total Production (Solar Panels)')\n",
    "plt.ylabel('Manufacturing Cost per Unit ($)')\n",
    "plt.title('Scatter Plot of Production vs. Manufacturing Cost')\n",
    "plt.legend()\n",
    "plt.show()"
   ]
  },
  {
   "cell_type": "code",
   "execution_count": 70,
   "id": "a4d8ee5e-6eef-47e0-9d5c-d51eb3d7f26d",
   "metadata": {},
   "outputs": [
    {
     "data": {
      "image/png": "[encoded data removed]",
      "text/plain": [
       "<Figure size 800x500 with 1 Axes>"
      ]
     },
     "metadata": {},
     "output_type": "display_data"
    }
   ],
   "source": [
    "# Step 2: Log-transform the data\n",
    "df['log_production'] = np.log(df['number_of_solar_panels'])\n",
    "df['log_cost'] = np.log(df['manufacturing_cost'])\n",
    "\n",
    "# Plot transformed data\n",
    "plt.figure(figsize=(8,5))\n",
    "plt.scatter(df['log_production'], df['log_cost'], color='red', label='Transformed Data (Log-Log)')\n",
    "plt.xlabel('Log of Total Production')\n",
    "plt.ylabel('Log of Manufacturing Cost')\n",
    "plt.title('Log-Log Scatter Plot of Production vs. Cost')\n",
    "plt.grid()\n",
    "plt.legend()\n",
    "plt.show()"
   ]
  },
  {
   "cell_type": "code",
   "execution_count": 59,
   "id": "0cda3353-5ad4-4f2f-8068-9eff02e489ac",
   "metadata": {},
   "outputs": [],
   "source": [
    "# Step 3: Linear regression using transformed data\n",
    "X = sm.add_constant(df['log_production'])  # Adding a constant for the intercept\n",
    "y = df['log_cost']\n",
    "\n",
    "# Fit regression model\n",
    "model = sm.OLS(y, X).fit()"
   ]
  },
  {
   "cell_type": "code",
   "execution_count": 61,
   "id": "4da1c784-5e43-4137-8ea1-5ea92603d9f3",
   "metadata": {},
   "outputs": [
    {
     "name": "stdout",
     "output_type": "stream",
     "text": [
      "                            OLS Regression Results                            \n",
      "==============================================================================\n",
      "Dep. Variable:               log_cost   R-squared:                       0.950\n",
      "Model:                            OLS   Adj. R-squared:                  0.948\n",
      "Method:                 Least Squares   F-statistic:                     381.4\n",
      "Date:                Mon, 10 Mar 2025   Prob (F-statistic):           1.70e-14\n",
      "Time:                        17:57:05   Log-Likelihood:                 47.049\n",
      "No. Observations:                  22   AIC:                            -90.10\n",
      "Df Residuals:                      20   BIC:                            -87.92\n",
      "Df Model:                           1                                         \n",
      "Covariance Type:            nonrobust                                         \n",
      "==================================================================================\n",
      "                     coef    std err          t      P>|t|      [0.025      0.975]\n",
      "----------------------------------------------------------------------------------\n",
      "const              7.8503      0.054    144.284      0.000       7.737       7.964\n",
      "log_production    -0.1550      0.008    -19.529      0.000      -0.172      -0.138\n",
      "==============================================================================\n",
      "Omnibus:                        0.677   Durbin-Watson:                   2.068\n",
      "Prob(Omnibus):                  0.713   Jarque-Bera (JB):                0.656\n",
      "Skew:                          -0.067   Prob(JB):                        0.720\n",
      "Kurtosis:                       2.165   Cond. No.                         59.7\n",
      "==============================================================================\n",
      "\n",
      "Notes:\n",
      "[1] Standard Errors assume that the covariance matrix of the errors is correctly specified.\n",
      "\n",
      "Experience Parameter (b): -0.1550\n",
      "Learning Rate: 10.19% cost reduction per doubling of production\n"
     ]
    }
   ],
   "source": [
    "# Step 4: Display regression results\n",
    "print(model.summary())\n",
    "\n",
    "# Extract experience parameter (b) and learning rate\n",
    "b = model.params['log_production']\n",
    "learning_rate = 1 - 2 ** b\n",
    "\n",
    "print(f\"\\nExperience Parameter (b): {b:.4f}\")\n",
    "print(f\"Learning Rate: {learning_rate:.2%} cost reduction per doubling of production\")"
   ]
  },
  {
   "cell_type": "code",
   "execution_count": 63,
   "id": "df14f018-0b3d-449c-a0d0-67dae10523e4",
   "metadata": {},
   "outputs": [
    {
     "name": "stdout",
     "output_type": "stream",
     "text": [
      "\n",
      "Predicted Costs for Future Production:\n",
      "For 4700 units: $692.17 per unit\n",
      "For 4800 units: $689.91 per unit\n",
      "For 4900 units: $687.71 per unit\n",
      "For 5000 units: $685.56 per unit\n"
     ]
    }
   ],
   "source": [
    "# Step 5: Predict future costs for 4700, 4800, 4900, 5000 panels\n",
    "future_production = np.array([4700, 4800, 4900, 5000])\n",
    "log_future_production = np.log(future_production)\n",
    "\n",
    "# Predict log-costs\n",
    "predicted_log_costs = model.predict(sm.add_constant(log_future_production))\n",
    "\n",
    "# Convert back to actual costs\n",
    "predicted_costs = np.exp(predicted_log_costs)\n",
    "\n",
    "# Display predictions\n",
    "print(\"\\nPredicted Costs for Future Production:\")\n",
    "for prod, cost in zip(future_production, predicted_costs):\n",
    "    print(f\"For {prod} units: ${cost:.2f} per unit\")"
   ]
  },
  {
   "cell_type": "code",
   "execution_count": 65,
   "id": "d135ae9f-68d1-4382-8d78-93445adecb9e",
   "metadata": {},
   "outputs": [
    {
     "name": "stdout",
     "output_type": "stream",
     "text": [
      "\n",
      "95% Confidence Interval for Costs:\n",
      "For 4700 units: $601.76 - $796.17 per unit\n",
      "For 4800 units: $599.59 - $793.85 per unit\n",
      "For 4900 units: $597.47 - $791.59 per unit\n",
      "For 5000 units: $595.40 - $789.38 per unit\n"
     ]
    }
   ],
   "source": [
    "# Step 6: Compute 95% Confidence Interval for cost predictions\n",
    "confidence_interval = model.conf_int(alpha=0.05)\n",
    "\n",
    "# Extract lower and upper bounds for experience parameter\n",
    "b_lower, b_upper = confidence_interval.loc['log_production']\n",
    "\n",
    "# Predict using lower and upper bounds of experience parameter\n",
    "predicted_log_costs_lower = model.params['const'] + b_lower * log_future_production\n",
    "predicted_log_costs_upper = model.params['const'] + b_upper * log_future_production\n",
    "\n",
    "# Convert back to actual costs\n",
    "predicted_costs_lower = np.exp(predicted_log_costs_lower)\n",
    "predicted_costs_upper = np.exp(predicted_log_costs_upper)\n",
    "\n",
    "# Display confidence intervals\n",
    "print(\"\\n95% Confidence Interval for Costs:\")\n",
    "for prod, cost_low, cost_high in zip(future_production, predicted_costs_lower, predicted_costs_upper):\n",
    "    print(f\"For {prod} units: ${cost_low:.2f} - ${cost_high:.2f} per unit\")\n"
   ]
  },
  {
   "cell_type": "code",
   "execution_count": null,
   "id": "9eff2dbc-bd5c-4973-b5f6-c33b0a5c2adc",
   "metadata": {},
   "outputs": [],
   "source": []
  },
  {
   "cell_type": "code",
   "execution_count": null,
   "id": "d4ef0697-2c4b-4247-8cdf-c45313082bf4",
   "metadata": {},
   "outputs": [],
   "source": []
  },
  {
   "cell_type": "code",
   "execution_count": null,
   "id": "dc5e2a89-4938-4c3e-a0da-bdccc7ae8a3e",
   "metadata": {},
   "outputs": [],
   "source": []
  }
 ],
 "metadata": {
  "kernelspec": {
   "display_name": "Python 3 (ipykernel)",
   "language": "python",
   "name": "python3"
  },
  "language_info": {
   "codemirror_mode": {
    "name": "ipython",
    "version": 3
   },
   "file_extension": ".py",
   "mimetype": "text/x-python",
   "name": "python",
   "nbconvert_exporter": "python",
   "pygments_lexer": "ipython3",
   "version": "3.12.4"
  }
 },
 "nbformat": 4,
 "nbformat_minor": 5
}
